{
 "cells": [
  {
   "cell_type": "code",
   "execution_count": 9,
   "metadata": {},
   "outputs": [
    {
     "name": "stdout",
     "output_type": "stream",
     "text": [
      "     0\n",
      "0 -3.0\n",
      "1 -2.0\n",
      "2 -1.0\n",
      "3  0.0\n",
      "4  1.0\n",
      "5  2.0\n",
      "[-0.5]\n",
      "[1.70782513]\n",
      "[[-1.46385011]\n",
      " [-0.87831007]\n",
      " [-0.29277002]\n",
      " [ 0.29277002]\n",
      " [ 0.87831007]\n",
      " [ 1.46385011]]\n",
      "[[1.46385011]\n",
      " [2.04939015]]\n",
      "[[ 9.66141072]\n",
      " [10.24695077]\n",
      " [10.83249081]\n",
      " [11.41803085]]\n"
     ]
    }
   ],
   "source": [
    "from sklearn import preprocessing\n",
    "import pandas as pd\n",
    "import numpy as np\n",
    "X_train = pd.DataFrame(np.arange(-3.,3.))\n",
    "print(X_train)\n",
    "scaler = preprocessing.StandardScaler().fit(X_train) # the scaler will now ensure that for any new set of data, use the same mean and scale\n",
    "print(scaler.mean_)\n",
    "print(scaler.scale_)\n",
    "print(scaler.transform(X_train)) # by doing this, the transform w\n",
    "X_test = pd.DataFrame(np.arange(2.,4.))\n",
    "print(scaler.transform(X_test))\n",
    "X_test2 = pd.DataFrame(np.arange(16.,20.))\n",
    "print(scaler.transform(X_test2))"
   ]
  },
  {
   "cell_type": "code",
   "execution_count": 10,
   "metadata": {},
   "outputs": [
    {
     "data": {
      "text/plain": [
       "-2.5000000044112647"
      ]
     },
     "execution_count": 10,
     "metadata": {},
     "output_type": "execute_result"
    }
   ],
   "source": [
    "1.70782513 * -1.46385011"
   ]
  },
  {
   "cell_type": "code",
   "execution_count": 12,
   "metadata": {},
   "outputs": [
    {
     "data": {
      "text/plain": [
       "1.2857142925836078"
      ]
     },
     "execution_count": 12,
     "metadata": {},
     "output_type": "execute_result"
    }
   ],
   "source": [
    "-0.87831007 * -1.46385011"
   ]
  },
  {
   "cell_type": "code",
   "execution_count": null,
   "metadata": {},
   "outputs": [],
   "source": []
  }
 ],
 "metadata": {
  "kernelspec": {
   "display_name": "Python 3",
   "language": "python",
   "name": "python3"
  },
  "language_info": {
   "codemirror_mode": {
    "name": "ipython",
    "version": 3
   },
   "file_extension": ".py",
   "mimetype": "text/x-python",
   "name": "python",
   "nbconvert_exporter": "python",
   "pygments_lexer": "ipython3",
   "version": "3.8.0"
  }
 },
 "nbformat": 4,
 "nbformat_minor": 2
}
